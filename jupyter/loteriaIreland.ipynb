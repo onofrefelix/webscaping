{
 "cells": [
  {
   "cell_type": "code",
   "execution_count": 1,
   "source": [
    "#import the library used to query a website\n",
    "import requests\n",
    "from bs4 import BeautifulSoup\n",
    "import re\n",
    "import pandas as pd\n",
    "import matplotlib.pyplot as plt"
   ],
   "outputs": [],
   "metadata": {}
  },
  {
   "cell_type": "code",
   "execution_count": 2,
   "source": [
    "def get_data_from_internet():\n",
    "    #specify the url for 2017\n",
    "    years = [\"archive-2021\",\"archive-2020\",\"archive-2019\",\"archive-2018\",\"archive-2017\",\"archive-2016\",\"archive-2015\",\n",
    "              \"archive-2013\",\"archive-2012\",\"archive-2011\",\"archive-2010\",\"archive-2009\",\"archive-2008\",\"archive-2007\",\n",
    "              \"archive-2006\",\"archive-2005\",\"archive-2004\",\"archive-2003\",\"archive-2002\",\"archive-2001\",\"archive-2000\",\n",
    "              \"archive-1999\",\"archive-1998\",\"archive-1997\",\"archive-1996\",\"archive-1995\",\"archive-1994\",\"archive-1993\",\n",
    "              \"archive-1992\",\"archive-1991\",\"archive-1990\",\"archive-1989\",\"archive-1988\"]\n",
    "\n",
    "    yearlist = list()\n",
    "    yearlistbonus = list()\n",
    "    ano =1\n",
    "    for year in years:\n",
    "        lottery = \"https://www.irishlottery.com/\"+year\n",
    "        #Query the website and return the html to the variable 'page'\n",
    "        page = requests.get(lottery)\n",
    "        soup = BeautifulSoup(page.content, 'html5lib')\n",
    "\n",
    "        #print(soup)\n",
    "\n",
    "        ball_class = soup.find_all(class_='ball')\n",
    "        bonusball = soup.find_all(class_='bonus-ball')\n",
    "        if not bonusball:\n",
    "            bonusball = ['0']*(len(ball_class)//6)\n",
    "        yearlistbonus.append(bonusball)\n",
    "        #print(ano ,len(ball_class)//6, len(bonusball),bonusball)\n",
    "        yearlist.append(ball_class)\n",
    "        ano+=1\n",
    "        if ano == 29:\n",
    "            break\n",
    "    return yearlist, yearlistbonus\n",
    "\n"
   ],
   "outputs": [],
   "metadata": {}
  },
  {
   "cell_type": "code",
   "execution_count": 3,
   "source": [
    "def processa_dados(yearlist, yearlistbonus):\n",
    "\n",
    "    mat = list()\n",
    "    val = list()\n",
    "    valbonus =list()\n",
    "    str_remove = r'\\W+\\D+'\n",
    "\n",
    "    #montagem do vetor de bolas bonus\n",
    "    for y in yearlistbonus:\n",
    "        for bn in y:\n",
    "            valbonus.append(int(re.sub(str_remove, '', str(bn))))\n",
    "\n",
    "    for y in yearlist:\n",
    "        for b in y:\n",
    "            val.append(re.sub(str_remove, '', str(b)))\n",
    "\n",
    "    #montagem da matriz de dados das bolas de 1 a 6\n",
    "    for b in range(0, len(val), 6):\n",
    "        mat.append(val[b:b+6])\n",
    "\n",
    "    return mat, valbonus\n",
    "\n",
    "\n",
    "def createDataframe(mat,valbonus):\n",
    "    vec = pd.Series(valbonus)\n",
    "    df = pd.DataFrame(mat)\n",
    "    columns = [\"ball_one\", \"ball_two\", \"ball_three\", \"ball_four\", \"ball_five\", \"ball_six\"]\n",
    "    df.columns = columns\n",
    "    df.insert(6, \"bonusball\", vec, True)\n",
    "    return df\n",
    "\n",
    "\n",
    "def readdataframe(filename):\n",
    "\n",
    "    return pd.read_csv(filename, sep=';')"
   ],
   "outputs": [],
   "metadata": {}
  },
  {
   "cell_type": "code",
   "execution_count": 5,
   "source": [
    "yearlist, yearlistbonus = get_data_from_internet()\n",
    "mat, valbonus = processa_dados(yearlist, yearlistbonus)\n",
    "df = createDataframe(mat, valbonus)\n",
    "print(df)"
   ],
   "outputs": [
    {
     "output_type": "stream",
     "name": "stdout",
     "text": [
      "     ball_one ball_two ball_three ball_four ball_five ball_six  bonusball\n",
      "0          12       17         18        21        33       37         23\n",
      "1           6       18         27        33        37       45         42\n",
      "2           3        7         11        28        31       43         46\n",
      "3           4       11         16        21        36       40          8\n",
      "4           9       14         22        24        37       44         45\n",
      "...       ...      ...        ...       ...       ...      ...        ...\n",
      "2907        1        3          6         9        13       28         33\n",
      "2908        1        3         13        19        26       37         31\n",
      "2909        6        9         16        33        37       38         27\n",
      "2910        4        9         10        14        15       30         16\n",
      "2911        5        9         16        24        29       31         15\n",
      "\n",
      "[2912 rows x 7 columns]\n"
     ]
    }
   ],
   "metadata": {}
  },
  {
   "cell_type": "code",
   "execution_count": 6,
   "source": [
    "df.to_csv(\"loteriairlandesa.csv\",sep=';',index=False)\n",
    "\n"
   ],
   "outputs": [],
   "metadata": {}
  },
  {
   "cell_type": "code",
   "execution_count": 9,
   "source": [
    "df = pd.read_csv(\"loteriairlandesa.csv\",sep=';')\n",
    "print(df)\n"
   ],
   "outputs": [
    {
     "output_type": "stream",
     "name": "stdout",
     "text": [
      "      ball_one  ball_two  ball_three  ball_four  ball_five  ball_six  \\\n",
      "0           12        17          18         21         33        37   \n",
      "1            6        18          27         33         37        45   \n",
      "2            3         7          11         28         31        43   \n",
      "3            4        11          16         21         36        40   \n",
      "4            9        14          22         24         37        44   \n",
      "...        ...       ...         ...        ...        ...       ...   \n",
      "2907         1         3           6          9         13        28   \n",
      "2908         1         3          13         19         26        37   \n",
      "2909         6         9          16         33         37        38   \n",
      "2910         4         9          10         14         15        30   \n",
      "2911         5         9          16         24         29        31   \n",
      "\n",
      "      bonusball  \n",
      "0            23  \n",
      "1            42  \n",
      "2            46  \n",
      "3             8  \n",
      "4            45  \n",
      "...         ...  \n",
      "2907         33  \n",
      "2908         31  \n",
      "2909         27  \n",
      "2910         16  \n",
      "2911         15  \n",
      "\n",
      "[2912 rows x 7 columns]\n"
     ]
    }
   ],
   "metadata": {}
  },
  {
   "cell_type": "code",
   "execution_count": 54,
   "source": [
    "columns5 = [\"ball_one\", \"ball_two\", \"ball_three\", \"ball_four\", \"ball_five\", \"ball_six\"]\n",
    "df[\"sum_six_ball\"] = df[columns5].sum(axis=1)\n",
    "\n",
    "\n",
    "columns6 = [\"ball_one\", \"ball_two\", \"ball_three\", \"ball_four\", \"ball_five\", \"ball_six\", \"bonusball\"]\n",
    "df[\"sum_allballs\"] = df[columns6].sum(axis=1)\n",
    "\n",
    "print(df[\"sum_six_ball\"].mean(),df[\"sum_allballs\"].mean())\n",
    "\n",
    "df[\"sum_six_ball_std\"]= df[\"sum_six_ball\"].std()\n",
    "df[\"sum_allballs_std\"]= df[\"sum_allballs\"].std()\n",
    "print(df)\n"
   ],
   "outputs": [
    {
     "output_type": "stream",
     "name": "stdout",
     "text": [
      "133.13701923076923 155.41071428571428\n",
      "      ball_one  ball_two  ball_three  ball_four  ball_five  ball_six  \\\n",
      "0           12        17          18         21         33        37   \n",
      "1            6        18          27         33         37        45   \n",
      "2            3         7          11         28         31        43   \n",
      "3            4        11          16         21         36        40   \n",
      "4            9        14          22         24         37        44   \n",
      "...        ...       ...         ...        ...        ...       ...   \n",
      "2907         1         3           6          9         13        28   \n",
      "2908         1         3          13         19         26        37   \n",
      "2909         6         9          16         33         37        38   \n",
      "2910         4         9          10         14         15        30   \n",
      "2911         5         9          16         24         29        31   \n",
      "\n",
      "      bonusball  sum_six_ball  sum_allballs  sum_six_ball_std  \\\n",
      "0            23           138           161         30.115775   \n",
      "1            42           166           208         30.115775   \n",
      "2            46           123           169         30.115775   \n",
      "3             8           128           136         30.115775   \n",
      "4            45           150           195         30.115775   \n",
      "...         ...           ...           ...               ...   \n",
      "2907         33            60            93         30.115775   \n",
      "2908         31            99           130         30.115775   \n",
      "2909         27           139           166         30.115775   \n",
      "2910         16            82            98         30.115775   \n",
      "2911         15           114           129         30.115775   \n",
      "\n",
      "      sum_allballs_std  \n",
      "0            32.372514  \n",
      "1            32.372514  \n",
      "2            32.372514  \n",
      "3            32.372514  \n",
      "4            32.372514  \n",
      "...                ...  \n",
      "2907         32.372514  \n",
      "2908         32.372514  \n",
      "2909         32.372514  \n",
      "2910         32.372514  \n",
      "2911         32.372514  \n",
      "\n",
      "[2912 rows x 11 columns]\n"
     ]
    }
   ],
   "metadata": {}
  },
  {
   "cell_type": "code",
   "execution_count": 51,
   "source": [
    "hist = df[\"sum_six_ball\"].tolist()\n",
    "plt.hist(hist, bins=250)\n",
    "plt.xlabel(\"bins\")\n",
    "plt.ylabel(\"contagem\")"
   ],
   "outputs": [
    {
     "output_type": "execute_result",
     "data": {
      "text/plain": [
       "Text(0, 0.5, 'contagem')"
      ]
     },
     "metadata": {},
     "execution_count": 51
    },
    {
     "output_type": "display_data",
     "data": {
      "image/png": "[encoded data removed]",
      "text/plain": [
       "<Figure size 432x288 with 1 Axes>"
      ]
     },
     "metadata": {
      "needs_background": "light"
     }
    }
   ],
   "metadata": {}
  },
  {
   "cell_type": "code",
   "execution_count": 52,
   "source": [
    "hist2 = df[\"sum_allballs\"].tolist()\n",
    "plt.hist(hist, bins=250)\n",
    "plt.xlabel(\"bins\")\n",
    "plt.ylabel(\"contagem\")"
   ],
   "outputs": [
    {
     "output_type": "execute_result",
     "data": {
      "text/plain": [
       "Text(0, 0.5, 'contagem')"
      ]
     },
     "metadata": {},
     "execution_count": 52
    },
    {
     "output_type": "display_data",
     "data": {
      "image/png": "[encoded data removed]",
      "text/plain": [
       "<Figure size 432x288 with 1 Axes>"
      ]
     },
     "metadata": {
      "needs_background": "light"
     }
    }
   ],
   "metadata": {}
  },
  {
   "cell_type": "code",
   "execution_count": 38,
   "source": [
    "from random import randint\n",
    "\n",
    "def gera6numeros(qte=10,menorvalor=125,maiorvalor=155):\n",
    "\n",
    "    total = 0\n",
    "    apostas = list()\n",
    "    while total<qte:\n",
    "        \n",
    "        aposta = [randint(1,48) for i in range(6)]\n",
    "        apostaset = set(aposta)\n",
    "        if len(apostaset) == 6 and menorvalor < sum(aposta) < maiorvalor:\n",
    "            aposta.sort()\n",
    "            apostas.append(aposta)\n",
    "            total = len(apostas)\n",
    "    \n",
    "    return apostas\n"
   ],
   "outputs": [],
   "metadata": {}
  },
  {
   "cell_type": "code",
   "execution_count": 42,
   "source": [
    "for i in gera6numeros():\n",
    "    print(f'{i} = {sum(i)}')"
   ],
   "outputs": [
    {
     "output_type": "stream",
     "name": "stdout",
     "text": [
      "[4, 11, 19, 30, 33, 40] = 137\n",
      "[5, 6, 18, 25, 36, 47] = 137\n",
      "[2, 13, 14, 30, 38, 39] = 136\n",
      "[11, 12, 15, 24, 36, 39] = 137\n",
      "[1, 7, 19, 21, 38, 48] = 134\n",
      "[6, 15, 21, 23, 41, 45] = 151\n",
      "[4, 8, 19, 26, 35, 41] = 133\n",
      "[5, 10, 14, 33, 34, 47] = 143\n",
      "[13, 16, 17, 29, 31, 43] = 149\n",
      "[7, 10, 18, 27, 28, 38] = 128\n"
     ]
    }
   ],
   "metadata": {}
  },
  {
   "cell_type": "code",
   "execution_count": 45,
   "source": [
    "def gera7numeros(qte=10,menorvalor=125,maiorvalor=155):\n",
    "    \n",
    "    total = 0\n",
    "    apostas = list()\n",
    "    while total<qte:\n",
    "        \n",
    "        aposta = [randint(1,48) for i in range(7)]\n",
    "        apostaset = set(aposta)\n",
    "        if len(apostaset) == 7 and menorvalor < sum(aposta) < maiorvalor:\n",
    "            aposta.sort()\n",
    "            apostas.append(aposta)\n",
    "            total = len(apostas)\n",
    "    \n",
    "    return apostas\n"
   ],
   "outputs": [],
   "metadata": {}
  },
  {
   "cell_type": "code",
   "execution_count": 46,
   "source": [
    "for i in gera7numeros():\n",
    "    print(f'{i} = {sum(i)}')"
   ],
   "outputs": [
    {
     "output_type": "stream",
     "name": "stdout",
     "text": [
      "[8, 11, 15, 22, 26, 27, 39] = 148\n",
      "[7, 8, 15, 18, 24, 30, 40] = 142\n",
      "[3, 7, 15, 20, 28, 36, 43] = 152\n",
      "[8, 9, 11, 13, 14, 27, 48] = 130\n",
      "[3, 11, 13, 14, 25, 34, 39] = 139\n",
      "[2, 5, 6, 16, 17, 39, 48] = 133\n",
      "[3, 10, 14, 15, 20, 35, 37] = 134\n",
      "[5, 10, 13, 19, 30, 33, 36] = 146\n",
      "[8, 16, 19, 20, 22, 28, 37] = 150\n",
      "[9, 12, 19, 20, 22, 29, 33] = 144\n"
     ]
    }
   ],
   "metadata": {}
  }
 ],
 "metadata": {
  "orig_nbformat": 4,
  "language_info": {
   "name": "python",
   "version": "3.8.10",
   "mimetype": "text/x-python",
   "codemirror_mode": {
    "name": "ipython",
    "version": 3
   },
   "pygments_lexer": "ipython3",
   "nbconvert_exporter": "python",
   "file_extension": ".py"
  },
  "kernelspec": {
   "name": "python3",
   "display_name": "Python 3.8.10 64-bit"
  },
  "interpreter": {
   "hash": "916dbcbb3f70747c44a77c7bcd40155683ae19c65e1c03b4aa3499c5328201f1"
  }
 },
 "nbformat": 4,
 "nbformat_minor": 2
}